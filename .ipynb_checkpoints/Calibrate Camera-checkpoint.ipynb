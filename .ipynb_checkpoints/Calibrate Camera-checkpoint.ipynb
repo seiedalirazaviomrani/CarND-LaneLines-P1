{
 "cells": [
  {
   "cell_type": "code",
   "execution_count": 5,
   "metadata": {
    "collapsed": false
   },
   "outputs": [],
   "source": [
    "import numpy as np\n",
    "import cv2\n",
    "import matplotlib.pyplot as plt\n",
    "import matplotlib.image as mpimg\n",
    "import glob\n",
    "%matplotlib inline"
   ]
  },
  {
   "cell_type": "code",
   "execution_count": 6,
   "metadata": {
    "collapsed": false
   },
   "outputs": [],
   "source": [
    "# Read in a Calibrate Image\n",
    "imgs = glob.glob(\"camera_cal/calibration*.jpg\")\n"
   ]
  },
  {
   "cell_type": "code",
   "execution_count": null,
   "metadata": {
    "collapsed": false
   },
   "outputs": [],
   "source": [
    "objpoints = [] # 3D points in a real world \n",
    "imgpoints = [] # 2D points in image plan\n",
    "\n",
    "# Prepare object points\n",
    "objp = np.zeros ((5*9,3) , np.float32)\n",
    "objp[:,:2] = np.mgrid[0:9,0:5].T.reshape(-1,2) # x and y cordinates\n",
    "\n",
    "for fname in imgs:\n",
    "    img = mpimg.imread(fname)\n",
    "\n",
    "    # Convert to grayscale image\n",
    "    gray = cv2.cvtColor(img,cv2.COLOR_BGR2GRAY)\n",
    "\n",
    "    # Find chess board cordinates\n",
    "    ret, corners = cv2.findChessboardCorners(gray, (9,5),None)\n",
    "\n",
    "    if ret == True:\n",
    "        imgpoints.append(corners)\n",
    "        objpoints.append(objp)\n",
    "    \n",
    "        # Drawing detected corners on an image\n",
    "        img = cv2.drawChessboardCorners(img, (9,5), corners, ret)\n",
    "        #plt.imshow(img)\n",
    "\n",
    "        # Camera calibration, given object points, image points, and the shape of the grayscale image\n",
    "        ret, mtx, dist, rvecs, tvecs = cv2.calibrateCamera(objpoints, imgpoints, gray.shape[::-1],None,None)\n",
    "        \n",
    "        # Undistorting a test image\n",
    "        dst = cv2.undistort(img, mtx, dist, None, mtx)\n",
    "        plt.imshow(dst)\n",
    "        \n",
    "    "
   ]
  },
  {
   "cell_type": "code",
   "execution_count": null,
   "metadata": {
    "collapsed": true
   },
   "outputs": [],
   "source": []
  },
  {
   "cell_type": "code",
   "execution_count": null,
   "metadata": {
    "collapsed": true
   },
   "outputs": [],
   "source": []
  }
 ],
 "metadata": {
  "anaconda-cloud": {},
  "kernelspec": {
   "display_name": "Python [conda env:saro]",
   "language": "python",
   "name": "conda-env-saro-py"
  },
  "language_info": {
   "codemirror_mode": {
    "name": "ipython",
    "version": 3
   },
   "file_extension": ".py",
   "mimetype": "text/x-python",
   "name": "python",
   "nbconvert_exporter": "python",
   "pygments_lexer": "ipython3",
   "version": "3.5.2"
  }
 },
 "nbformat": 4,
 "nbformat_minor": 1
}
